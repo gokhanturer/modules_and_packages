{
  "nbformat": 4,
  "nbformat_minor": 0,
  "metadata": {
    "colab": {
      "name": "Numpy_notes1.ipynb",
      "provenance": [],
      "authorship_tag": "ABX9TyNrDgDf2vJMqkmHnG64WTzI",
      "include_colab_link": true
    },
    "kernelspec": {
      "name": "python3",
      "display_name": "Python 3"
    },
    "language_info": {
      "name": "python"
    }
  },
  "cells": [
    {
      "cell_type": "markdown",
      "metadata": {
        "id": "view-in-github",
        "colab_type": "text"
      },
      "source": [
        "<a href=\"https://colab.research.google.com/github/mehmetsar/modules_and_packages/blob/main/Numpy_notes1.ipynb\" target=\"_parent\"><img src=\"https://colab.research.google.com/assets/colab-badge.svg\" alt=\"Open In Colab\"/></a>"
      ]
    },
    {
      "cell_type": "markdown",
      "metadata": {
        "id": "fjWIG322vhbJ"
      },
      "source": [
        "Numpy\n",
        "NumPy (Numerical Python) bilimsel hesaplamaları hızlı bir şekilde yapmamızı sağlayan bir matematik kütüphanesidir. Numpy’ın temelini numpy dizileri oluşturur. Numpy dizileri python listelerine benzer fakat hız ve işlevsellik açısından python listelerinden daha kullanışlıdır.Ayrıca python listelerinden farklı olarak Numpy dizileri homojen yapıda olmalıdır yani dizi içindeki tüm elemanlar aynı veri tipinden olmalıdır."
      ]
    },
    {
      "cell_type": "markdown",
      "metadata": {
        "id": "YSecU-SDvmiR"
      },
      "source": [
        "1) Numpy kütüphanesinin import edilmesi"
      ]
    },
    {
      "cell_type": "code",
      "metadata": {
        "id": "FUQm-3iWvgpL"
      },
      "source": [
        "import numpy as np"
      ],
      "execution_count": 1,
      "outputs": []
    },
    {
      "cell_type": "code",
      "metadata": {
        "colab": {
          "base_uri": "https://localhost:8080/"
        },
        "id": "sKyCAlQKvwlR",
        "outputId": "a5aedb63-c029-4c18-9894-789ce3b99fce"
      },
      "source": [
        "##Numpy dizisinin oluşturulması\n",
        "#Numpy dizisi ve python listesi oluşturup farklarına göz atalım :\n",
        "# python list\n",
        "python_list = [0, 1, 2, 3, 4, 5, 6, 7, 8, 9]\n",
        "# numpy array\n",
        "numpy_array = np.array([0, 1, 2, 3, 4, 5, 6, 7, 8, 9])\n",
        "print(\"Python listesi :\")\n",
        "print(python_list)\n",
        "print(\"Numpy dizisi :\")\n",
        "print(numpy_array)"
      ],
      "execution_count": 2,
      "outputs": [
        {
          "output_type": "stream",
          "text": [
            "Python listesi :\n",
            "[0, 1, 2, 3, 4, 5, 6, 7, 8, 9]\n",
            "Numpy dizisi :\n",
            "[0 1 2 3 4 5 6 7 8 9]\n"
          ],
          "name": "stdout"
        }
      ]
    },
    {
      "cell_type": "markdown",
      "metadata": {
        "id": "x_P3ng2KxTsM"
      },
      "source": [
        "Yukarıdaki örneğe baktığımızda python listesi ve numpy dizileri arasında çok fark olmadığını görüyoruz.Fakat çok boyutlu dizilerle(matrisler ile) çalışma imkanı sağladığı ve python listelerinden daha hızlı olduğu için data science alanında genellikle Numpy kütüphanesi kullanılmaktadır."
      ]
    },
    {
      "cell_type": "markdown",
      "metadata": {
        "id": "Lv2orsJqxX9A"
      },
      "source": [
        "Dizinin boyutunu bulmak : ndarray.ndim\n",
        ".ndim →numpy array nesnesinin boyutunu döndürür."
      ]
    },
    {
      "cell_type": "code",
      "metadata": {
        "colab": {
          "base_uri": "https://localhost:8080/"
        },
        "id": "CMQTJ1WhxaDC",
        "outputId": "521c8722-acab-4a3b-9510-6127109cdcf5"
      },
      "source": [
        "numpy_array1 = np.array([0, 1, 2, 3, 4, 5, 6, 7, 8, 9])\n",
        "print(numpy_array1.ndim)\n",
        "numpy_array2 = np.array([[0, 1, 2, 3, 4, 5, 6, 7, 8, 9]])\n",
        "print(numpy_array2.ndim)"
      ],
      "execution_count": 4,
      "outputs": [
        {
          "output_type": "stream",
          "text": [
            "1\n",
            "2\n"
          ],
          "name": "stdout"
        }
      ]
    },
    {
      "cell_type": "markdown",
      "metadata": {
        "id": "QTBH2Lekxi4N"
      },
      "source": [
        "Dizinin satır ve sütun sayısını bulmak: ndarray.shape\n",
        ".shape →Numpy array nesnesinin kaç satır ve sütundan oluştuğunu gösteren bir tupple nesnesi döndürür."
      ]
    },
    {
      "cell_type": "code",
      "metadata": {
        "colab": {
          "base_uri": "https://localhost:8080/"
        },
        "id": "276H9CQBxkw7",
        "outputId": "e447f6a7-e1e5-478b-ad39-9c3a2d784e66"
      },
      "source": [
        "numpy_array1 = np.array([0, 1, 2, 3, 4, 5, 6, 7, 8, 9])\n",
        "print(numpy_array1.shape)\n",
        "print(numpy_array1.ndim)"
      ],
      "execution_count": 5,
      "outputs": [
        {
          "output_type": "stream",
          "text": [
            "(10,)\n",
            "1\n"
          ],
          "name": "stdout"
        }
      ]
    },
    {
      "cell_type": "code",
      "metadata": {
        "colab": {
          "base_uri": "https://localhost:8080/"
        },
        "id": "S9A0PAfHySv4",
        "outputId": "0ee951d2-7d57-415a-f404-2b4947c2f95d"
      },
      "source": [
        "numpy_array2 = np.array([[0, 1, 2, 3, 4, 5, 6, 7, 8, 9]])\n",
        "print(numpy_array2.ndim)\n",
        "print(numpy_array2.shape)"
      ],
      "execution_count": 6,
      "outputs": [
        {
          "output_type": "stream",
          "text": [
            "2\n",
            "(1, 10)\n"
          ],
          "name": "stdout"
        }
      ]
    },
    {
      "cell_type": "markdown",
      "metadata": {
        "id": "P4UxPeqoyXr-"
      },
      "source": [
        "Dizinin satır ve sütun sayısını değiştirmek : ndarray.reshape()\n",
        "Numpy array’i yeniden şekillendirmek istediğimizde yani satır ve sütun sayısını değiştirmek istediğimizde reshape() metodunu kullanabiliriz. numpy_array isimli değişkenimizi yeniden şekillendirelim:"
      ]
    },
    {
      "cell_type": "code",
      "metadata": {
        "colab": {
          "base_uri": "https://localhost:8080/"
        },
        "id": "QcTmJ2J1yY16",
        "outputId": "6fb0ffd9-c743-4753-b2ca-2f0a7c1e8999"
      },
      "source": [
        "numpy_array = np.array([0, 1, 2, 3, 4, 5, 6, 7, 8, 9])\n",
        "print(numpy_array.reshape(1,10))\n",
        "print(numpy_array.reshape(10,1))\n",
        "print(numpy_array.reshape(5,2))\n",
        "#Not : Orijinal matris ve yeniden şekillendirilen matris aynı sayıda elemana sahip olmalıdır."
      ],
      "execution_count": 9,
      "outputs": [
        {
          "output_type": "stream",
          "text": [
            "[[0 1 2 3 4 5 6 7 8 9]]\n",
            "[[0]\n",
            " [1]\n",
            " [2]\n",
            " [3]\n",
            " [4]\n",
            " [5]\n",
            " [6]\n",
            " [7]\n",
            " [8]\n",
            " [9]]\n",
            "[[0 1]\n",
            " [2 3]\n",
            " [4 5]\n",
            " [6 7]\n",
            " [8 9]]\n"
          ],
          "name": "stdout"
        }
      ]
    },
    {
      "cell_type": "markdown",
      "metadata": {
        "id": "88r4j69MythP"
      },
      "source": [
        "np.arange() →Python’daki range() fonksiyonuna benzer. Belirtilen başlangıç değerinden başlayıp, her seferinde adım sayısı kadar arttırarak ,bitiş değerine kadar olan sayıları bulunduran bir numpy dizisi dödürür.\n",
        "Not: Bitiş değerinin diziye dahil edilmediğine dikkat edelim.\n",
        "Genel kullanım :\n",
        "np.arange(başlangıç,bitiş,adım sayısı)\n",
        "np.arange(bitiş) → bu kullanımda default başlangıç değeri 0 , adım sayısı ise 1 olarak kabul edilir. Yani aslında yukarıda ki formatta ifade edecek olursak np.arange(0,bitiş,1) şeklinde yazabiliriz."
      ]
    },
    {
      "cell_type": "code",
      "metadata": {
        "id": "E3dtk8qHxUVK"
      },
      "source": [
        ""
      ],
      "execution_count": null,
      "outputs": []
    }
  ]
}