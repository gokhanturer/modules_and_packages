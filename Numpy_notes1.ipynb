{
  "nbformat": 4,
  "nbformat_minor": 0,
  "metadata": {
    "colab": {
      "name": "Numpy_notes1.ipynb",
      "provenance": [],
      "authorship_tag": "ABX9TyN3Rq9Hi77C3EkGeT5qNI3y",
      "include_colab_link": true
    },
    "kernelspec": {
      "name": "python3",
      "display_name": "Python 3"
    },
    "language_info": {
      "name": "python"
    }
  },
  "cells": [
    {
      "cell_type": "markdown",
      "metadata": {
        "id": "view-in-github",
        "colab_type": "text"
      },
      "source": [
        "<a href=\"https://colab.research.google.com/github/mehmetsar/modules_and_packages/blob/main/Numpy_notes1.ipynb\" target=\"_parent\"><img src=\"https://colab.research.google.com/assets/colab-badge.svg\" alt=\"Open In Colab\"/></a>"
      ]
    },
    {
      "cell_type": "markdown",
      "metadata": {
        "id": "fjWIG322vhbJ"
      },
      "source": [
        "Numpy\n",
        "NumPy (Numerical Python) bilimsel hesaplamaları hızlı bir şekilde yapmamızı sağlayan bir matematik kütüphanesidir. Numpy’ın temelini numpy dizileri oluşturur. Numpy dizileri python listelerine benzer fakat hız ve işlevsellik açısından python listelerinden daha kullanışlıdır.Ayrıca python listelerinden farklı olarak Numpy dizileri homojen yapıda olmalıdır yani dizi içindeki tüm elemanlar aynı veri tipinden olmalıdır."
      ]
    },
    {
      "cell_type": "markdown",
      "metadata": {
        "id": "YSecU-SDvmiR"
      },
      "source": [
        "1) Numpy kütüphanesinin import edilmesi"
      ]
    },
    {
      "cell_type": "code",
      "metadata": {
        "id": "FUQm-3iWvgpL"
      },
      "source": [
        "import numpy as np"
      ],
      "execution_count": 1,
      "outputs": []
    },
    {
      "cell_type": "code",
      "metadata": {
        "colab": {
          "base_uri": "https://localhost:8080/"
        },
        "id": "sKyCAlQKvwlR",
        "outputId": "a5aedb63-c029-4c18-9894-789ce3b99fce"
      },
      "source": [
        "##Numpy dizisinin oluşturulması\n",
        "#Numpy dizisi ve python listesi oluşturup farklarına göz atalım :\n",
        "# python list\n",
        "python_list = [0, 1, 2, 3, 4, 5, 6, 7, 8, 9]\n",
        "# numpy array\n",
        "numpy_array = np.array([0, 1, 2, 3, 4, 5, 6, 7, 8, 9])\n",
        "print(\"Python listesi :\")\n",
        "print(python_list)\n",
        "print(\"Numpy dizisi :\")\n",
        "print(numpy_array)"
      ],
      "execution_count": 2,
      "outputs": [
        {
          "output_type": "stream",
          "text": [
            "Python listesi :\n",
            "[0, 1, 2, 3, 4, 5, 6, 7, 8, 9]\n",
            "Numpy dizisi :\n",
            "[0 1 2 3 4 5 6 7 8 9]\n"
          ],
          "name": "stdout"
        }
      ]
    }
  ]
}