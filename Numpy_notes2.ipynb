{
  "nbformat": 4,
  "nbformat_minor": 0,
  "metadata": {
    "colab": {
      "name": "Numpy_notes2.ipynb",
      "provenance": [],
      "authorship_tag": "ABX9TyOiJx+OLEu2OEUAcCCGViwT",
      "include_colab_link": true
    },
    "kernelspec": {
      "name": "python3",
      "display_name": "Python 3"
    },
    "language_info": {
      "name": "python"
    }
  },
  "cells": [
    {
      "cell_type": "markdown",
      "metadata": {
        "id": "view-in-github",
        "colab_type": "text"
      },
      "source": [
        "<a href=\"https://colab.research.google.com/github/mehmetsar/modules_and_packages/blob/main/Numpy_notes2.ipynb\" target=\"_parent\"><img src=\"https://colab.research.google.com/assets/colab-badge.svg\" alt=\"Open In Colab\"/></a>"
      ]
    },
    {
      "cell_type": "code",
      "metadata": {
        "id": "eY5TYkA53D2U"
      },
      "source": [
        "import numpy as np\n"
      ],
      "execution_count": 2,
      "outputs": []
    },
    {
      "cell_type": "code",
      "metadata": {
        "id": "Dp0YQAc71gQE"
      },
      "source": [
        "#sum(toplam), max ve min değerlerini hesaplamak\n",
        "numpy_array = np.array([0,1, 2, 3, 4, 5, 6, 7, 8, 9])\n",
        "numpy_array = numpy_array.reshape(5,2)\n",
        "print(numpy_array)\n",
        "print(numpy_array.max())\n",
        "\n",
        "print(numpy_array.min())\n",
        "\n",
        "print(numpy_array.sum())\n"
      ],
      "execution_count": null,
      "outputs": []
    },
    {
      "cell_type": "code",
      "metadata": {
        "id": "HLRxYMd_1vuQ"
      },
      "source": [
        "#Satırların toplamı\n",
        "print(numpy_array.sum(axis = 1))\n",
        "#Sütunların toplamı\n",
        "print(numpy_array.sum(axis = 0))"
      ],
      "execution_count": null,
      "outputs": []
    },
    {
      "cell_type": "code",
      "metadata": {
        "id": "Z7I7Khfg13fY"
      },
      "source": [
        "#mean, median, varyans ve standart sapma hesaplamak\n",
        "numpy_array = np.array([0,1, 2, 3, 4, 5, 6, 7, 8, 9])\n",
        "print(numpy_array.mean())\n",
        "print(np.median(numpy_array))\n",
        "print(numpy_array.var())\n",
        "print(numpy_array.std())"
      ],
      "execution_count": null,
      "outputs": []
    },
    {
      "cell_type": "code",
      "metadata": {
        "id": "k0s7YDx12IZf"
      },
      "source": [
        "#Matrislerde aritmetik işlemler\n",
        "##Matrislerden hatırlayacağımız üzere toplama, çıkarma vb. işlemler yapabilmek için işlem yapılacak\n",
        "### matrislerin satır ve sütun sayılarının eşit olması gerekiyordu.\n",
        "\n",
        "numpy_array = np.array([1, 2, 3, 4, 5, 6, 7, 8, 9])\n",
        "numpy_array = numpy_array.reshape(3,3)\n",
        "#dizimizi 3x3 lük, 2 boyutlu bir matrise dönüştürdük.\n",
        "\n",
        "print(numpy_array)\n",
        "print(numpy_array + numpy_array)\n",
        "print(numpy_array - numpy_array)\n",
        "print(numpy_array * numpy_array)\n",
        "print(numpy_array / numpy_array)\n",
        "print(numpy_array + 5)"
      ],
      "execution_count": null,
      "outputs": []
    },
    {
      "cell_type": "code",
      "metadata": {
        "id": "pdxp58NQ2jw9"
      },
      "source": [
        "#Özel foksiyonlar ile işlemler\n",
        "#Numpy toplama, çıkarma gibi basit matematiksel işlemlerin yanında \n",
        "#trigonometrik, logaritmik,üstel fonksiyonlar… gibi daha kompleks fonksiyonlarla da çalışma imkanı sağlar.\n",
        "\n",
        "numpy_array = np.array([1, 2, 3, 4, 5, 6, 7, 8, 9])\n",
        "numpy_array = numpy_array.reshape(3,3)\n",
        "#dizimizi 3x3 lük, 2 boyutlu bir matrise dönüştürdük.\n",
        "print(np.sin(numpy_array))\n",
        "print(np.cos(numpy_array))\n",
        "print(np.sqrt(numpy_array))  \n",
        "print(np.exp(numpy_array))\n",
        "print(np.log(numpy_array))"
      ],
      "execution_count": null,
      "outputs": []
    },
    {
      "cell_type": "markdown",
      "metadata": {
        "id": "GNKaYhQl28RL"
      },
      "source": [
        "Matrislerin çarpımı\n",
        "Bu bölüme ,iki matris çarpılırken ilk matrisin sütun sayısının ikinci matrisin satır sayısına eşit olması gerektiğini hatırlayarak başlayalım"
      ]
    },
    {
      "cell_type": "code",
      "metadata": {
        "colab": {
          "base_uri": "https://localhost:8080/"
        },
        "id": "iXoP3hdE2__L",
        "outputId": "2930b472-173f-48c3-9e77-60ec522e3983"
      },
      "source": [
        "numpy_array = np.array([0,1, 2, 3, 4, 5, 6, 7, 8, 9])\n",
        "numpy_array1 = numpy_array.reshape(5,2)\n",
        "numpy_array2 = numpy_array.reshape(2,5)\n",
        "print(np.dot(numpy_array1,numpy_array2))"
      ],
      "execution_count": 3,
      "outputs": [
        {
          "output_type": "stream",
          "text": [
            "[[  5   6   7   8   9]\n",
            " [ 15  20  25  30  35]\n",
            " [ 25  34  43  52  61]\n",
            " [ 35  48  61  74  87]\n",
            " [ 45  62  79  96 113]]\n"
          ],
          "name": "stdout"
        }
      ]
    },
    {
      "cell_type": "code",
      "metadata": {
        "id": "e3LDdhPG3OrV"
      },
      "source": [
        "#Matrisin transpozu\n",
        "#Matrisin satırlarını sütun, sütunlarını satır yapma işlemi numpy ile “ .T” yazmak kadar kolay.\n",
        "numpy_array = np.array([0,1, 2, 3, 4, 5, 6, 7, 8, 9])\n",
        "numpy_array = numpy_array.reshape(5,2)\n",
        "print(numpy_array)\n",
        "print(numpy_array.T) "
      ],
      "execution_count": null,
      "outputs": []
    },
    {
      "cell_type": "markdown",
      "metadata": {
        "id": "UoRMOY-T3bhS"
      },
      "source": [
        "\n",
        "Numpy bize if-else bloğu kullanmamıza gerek kalmadan belirli bir koşulu sağlayan dizi elemanlarıyla çalışma imkanı sağlar. Klasik numpy_array nesnemizi kullanarak nasıl yapılacağına göz atalım:"
      ]
    },
    {
      "cell_type": "code",
      "metadata": {
        "colab": {
          "base_uri": "https://localhost:8080/"
        },
        "id": "_GUxux3k3a4q",
        "outputId": "59302815-f22b-43f4-e5fd-f2bb7db4cdf8"
      },
      "source": [
        "numpy_array = np.array([0,1, 2, 3, 4, 5, 6, 7, 8, 9])\n",
        "boolean_array = numpy_array >= 5\n",
        "print(boolean_array)\n",
        "# 5 ve 5'ten büyük elemanlar\n",
        "print(numpy_array[boolean_array])\n",
        "# 5 ten küçük elemanlar\n",
        "print(numpy_array<5)\n",
        "print(numpy_array[numpy_array<5])"
      ],
      "execution_count": 5,
      "outputs": [
        {
          "output_type": "stream",
          "text": [
            "[False False False False False  True  True  True  True  True]\n",
            "[5 6 7 8 9]\n",
            "[ True  True  True  True  True False False False False False]\n",
            "[0 1 2 3 4]\n"
          ],
          "name": "stdout"
        }
      ]
    }
  ]
}